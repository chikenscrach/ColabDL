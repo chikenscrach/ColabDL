{
  "cells": [
    {
      "cell_type": "code",
      "execution_count": null,
      "metadata": {
        "cellView": "form",
        "id": "VHNkCXZLAIvO"
      },
      "outputs": [],
      "source": [
        "#@title # 初始化（要先執行）\n",
        "#@markdown 先下載必要套件\n",
        "\n",
        "# 刪掉colab預設檔案\n",
        "!rm -rf /content/sample_data\n",
        "# 安裝aria2\n",
        "!apt install -y -qq aria2\n",
        "# 安裝gigafile, mega上傳套件\n",
        "!pip install -qq gigafile mega.py\n",
        "# 創建Download資料夾\n",
        "!mkdir -p /content/DL\n",
        "mega_count = 0 # mega下載的控制器，我太笨了只能這樣弄\n",
        "# cd到DL資料夾\n",
        "%cd /content/DL\n",
        "\n",
        "# import各種套件\n",
        "from google.colab import drive\n",
        "import os, json, urllib.parse, re"
      ]
    },
    {
      "cell_type": "code",
      "execution_count": null,
      "metadata": {
        "cellView": "form",
        "id": "6OayVi9fyI8w"
      },
      "outputs": [],
      "source": [
        "#@title # **下載**\n",
        "\n",
        "%cd /content/DL\n",
        "link = \"\" #@param{type:\"string\"}\n",
        "from_direct_link = False #@param{type:\"boolean\"}\n",
        "from_torrent = False #@param{type:\"boolean\"}\n",
        "from_gigafile = False #@param{type:\"boolean\"}\n",
        "from_pixeldrain = False #@param{type:\"boolean\"}\n",
        "from_mega = False #@param{type:\"boolean\"}\n",
        "\n",
        "if from_torrent:\n",
        "  !aria2c --summary-interval=10 --seed-time=0 --allow-overwrite=true \"{link}\"\n",
        "\n",
        "if from_direct_link:\n",
        "  !aria2c --summary-interval=10 -c -x 16 -k 1M -s 16 \"{link}\"\n",
        "\n",
        "if from_gigafile:\n",
        "  !gfile download \"{link}\"\n",
        "\n",
        "if from_pixeldrain:\n",
        "  url_check = re.match('https://pixeldrain.com/u/', link)\n",
        "  if url_check:\n",
        "    pd_id = link[url_check.span()[1]: len(link)]\n",
        "    bypass = 'https://pd.cybar.xyz/' + pd_id\n",
        "    !aria2c --summary-interval=10 -c -x 16 -k 1M -s 16 \"{bypass}\"\n",
        "  else:\n",
        "    print(\"URL格式錯誤！\")\n",
        "    print(\"正確格式應為`https://pixeldrain.com/u/XXXXXXXX`\")\n",
        "\n",
        "if from_mega:\n",
        "  if mega_count == 0:\n",
        "    mega_count = 1\n",
        "    from mega import Mega\n",
        "    mega = Mega()\n",
        "    m = mega.login()\n",
        "  m.download_url(link)\n",
        "\n",
        "print(\"\\nDone!\")"
      ]
    },
    {
      "cell_type": "markdown",
      "source": [
        "---\n",
        "# **上傳**"
      ],
      "metadata": {
        "id": "7fsGtNtlnP2L"
      }
    },
    {
      "cell_type": "code",
      "source": [
        "#@title # **上傳到Buzzheavier**\n",
        "\n",
        "filename = \"\" #@param{type:\"string\"}\n",
        "\n",
        "BuzzUpUrl = \"https://w.buzzheavier.com/t/\" + urllib.parse.quote(filename)\n",
        "BuzzUp = !curl -#o - -T \"$filename\" \"$BuzzUpUrl\" | cat\n",
        "print(\"下載網址： https://buzzheavier.com/f/\", json.loads(BuzzUp[-1]).get('id'), sep='')"
      ],
      "metadata": {
        "cellView": "form",
        "id": "K0odrMQUqeqi"
      },
      "execution_count": null,
      "outputs": []
    },
    {
      "cell_type": "code",
      "source": [
        "#@title # **上傳到Pixeldrain**\n",
        "#@markdown **Pixeldrain上限 [20](https://pixeldrain.com/) GB**\n",
        "\n",
        "#@markdown 現在需要帳號ㄌ！\n",
        "\n",
        "filename = \"\" #@param{type:\"string\"}\n",
        "pd_api_key = \"\" #@param{type:\"string\"}\n",
        "\n",
        "if pd_api_key == \"\":\n",
        "  print(\"請填入API密鑰！\")\n",
        "  print(\"https://pixeldrain.com/user/api_keys\")\n",
        "else:\n",
        "  pdupload = !curl -T \"{filename}\" -u :$pd_api_key https://pixeldrain.com/api/file/\n",
        "  res = json.loads(pdupload[0])\n",
        "  print(\"下載網址： https://pixeldrain.com/u/\", res.get('id'), sep='')"
      ],
      "metadata": {
        "cellView": "form",
        "id": "kIwoSywdpPos"
      },
      "execution_count": null,
      "outputs": []
    },
    {
      "cell_type": "code",
      "execution_count": null,
      "metadata": {
        "cellView": "form",
        "id": "sK9bvsmLy-td"
      },
      "outputs": [],
      "source": [
        "#@title # **上傳到filehaus**\n",
        "\n",
        "filename = \"\" #@param{type:\"string\"}\n",
        "\n",
        "haus_up = \"https://up1.filehaus.su/upload/\" + urllib.parse.quote(filename)\n",
        "!curl -T \"{filename}\" $haus_up"
      ]
    },
    {
      "cell_type": "code",
      "source": [
        "#@title # **上傳到Gofile**\n",
        "\n",
        "filename = \"\" #@param{type:\"string\"}\n",
        "\n",
        "server = !curl -X GET 'https://api.gofile.io/servers'\n",
        "good_server = json.loads(server[0]).get('data').get('servers')[0].get('name')\n",
        "go_url = f\"https://{good_server}.gofile.io/contents/uploadfile\"\n",
        "go_up = !curl -X POST $go_url -F \"file=@{filename}\"\n",
        "print('下載網址：', json.loads(go_up[0]).get('data').get('downloadPage'))"
      ],
      "metadata": {
        "cellView": "form",
        "id": "T5uiGtDPrUVG"
      },
      "execution_count": null,
      "outputs": []
    },
    {
      "cell_type": "code",
      "source": [
        "#@title # **上傳到Gigafile**\n",
        "\n",
        "filename = \"\" #@param{type:\"string\"}\n",
        "\n",
        "!gfile -p -n 24 upload \"{filename}\""
      ],
      "metadata": {
        "cellView": "form",
        "id": "1_zOUW4tpzFc"
      },
      "execution_count": null,
      "outputs": []
    },
    {
      "cell_type": "code",
      "source": [
        "#@title # 上傳到Google Drive\n",
        "#@markdown **資料夾位置記得加 \"/\"**\n",
        "\n",
        "google_drive_path = \"ColabDownloads/\" #@param {type:\"string\"}\n",
        "\n",
        "if not os.path.exists('/content/gdrive'):\n",
        "  drive.mount('/content/gdrive')\n",
        "\n",
        "!rsync -avh --progress . \"/content/gdrive/MyDrive/\"{output_path}\n",
        "print(\"\\033[32mDone!\\033[0m\")"
      ],
      "metadata": {
        "cellView": "form",
        "id": "D7O6lnNXnd6e"
      },
      "execution_count": null,
      "outputs": []
    },
    {
      "cell_type": "code",
      "source": [
        "#@title # **上傳到catbox**\n",
        "#@markdown **catbox上限 [200](https://catbox.moe/) MB**\n",
        "\n",
        "filename = \"\" #@param{type:\"string\"}\n",
        "\n",
        "!curl -F \"reqtype=fileupload\" -F \"fileToUpload=@{filename}\" https://catbox.moe/user/api.php"
      ],
      "metadata": {
        "cellView": "form",
        "id": "DDuErsk3qFD6"
      },
      "execution_count": null,
      "outputs": []
    },
    {
      "cell_type": "markdown",
      "source": [
        "---\n",
        "# 其他"
      ],
      "metadata": {
        "id": "crfQ9I8yb8ZL"
      }
    },
    {
      "cell_type": "code",
      "execution_count": null,
      "metadata": {
        "cellView": "form",
        "id": "u2u7K6iL03Of"
      },
      "outputs": [],
      "source": [
        "#@title # 👇 **移除下載檔案 (清理一下colab)**\n",
        "!rm -rf /content/DL/*\n",
        "%cd /content/DL\n",
        "print(\"乾淨ㄌ\")"
      ]
    },
    {
      "cell_type": "code",
      "source": [
        "# 自行發揮"
      ],
      "metadata": {
        "id": "yKd85b-_ttA1"
      },
      "execution_count": null,
      "outputs": []
    },
    {
      "cell_type": "markdown",
      "source": [
        "---\n",
        "# 以下小工具\n"
      ],
      "metadata": {
        "id": "eMa98iAnKu-l"
      }
    },
    {
      "cell_type": "code",
      "source": [
        "#@title # Colab終端機\n",
        "#@markdown [colab-xterm](https://github.com/InfuseAI/colab-xterm)\n",
        "!pip install colab-xterm\n",
        "%load_ext colabxterm\n",
        "%xterm"
      ],
      "metadata": {
        "cellView": "form",
        "id": "jbfg-flWK6_o"
      },
      "execution_count": null,
      "outputs": []
    },
    {
      "cell_type": "code",
      "source": [
        "#@title # Telegram 工具\n",
        "#@markdown [tdl](https://github.com/iyear/tdl) [文件](https://docs.iyear.me/tdl/)\n",
        "!curl -sSL https://docs.iyear.me/tdl/install.sh | sudo bash\n",
        "# upload tdl\n",
        "# unzip tdl.zip -d ~/.tdl"
      ],
      "metadata": {
        "cellView": "form",
        "id": "x2INRPBkLFHt"
      },
      "execution_count": null,
      "outputs": []
    },
    {
      "cell_type": "code",
      "source": [
        "#@title # Mega帳號產生器\n",
        "#@markdown [py_mega_account_generator](https://github.com/qtchaos/py_mega_account_generator)\n",
        "!wget https://dl.google.com/linux/direct/google-chrome-stable_current_amd64.deb\n",
        "!apt-get update\n",
        "!apt-get install ./google-chrome-stable_current_amd64.deb\n",
        "!rm google-chrome-stable_current_amd64.deb\n",
        "!git clone https://github.com/qtchaos/py_mega_account_generator.git\n",
        "%cd py_mega_account_generator\n",
        "!pip install -r requirements.txt\n",
        "%cd ..\n",
        "# 第一次執行把這個複製並貼上`/opt/google/chrome/chrome`"
      ],
      "metadata": {
        "cellView": "form",
        "id": "iHZm_mdJMlyP"
      },
      "execution_count": null,
      "outputs": []
    },
    {
      "cell_type": "code",
      "source": [
        "#@title # YouTube影片下載\n",
        "#@markdown 下載格式會是`影片id.mkv`，這樣比較不會有問題\n",
        "from google.colab import output\n",
        "import json\n",
        "!pip install yt-dlp\n",
        "yt_url = \"https://youtu.be/dQw4w9WgXcQ\" #@param {type:\"string\"}\n",
        "!yt-dlp --ignore-errors --output \"%(id)s.%(ext)s\" --verbose --merge-output-format mkv --embed-thumbnail --embed-metadata --embed-info-json --concurrent-fragments 24 $yt_url\n",
        "server = !curl -X GET 'https://api.gofile.io/servers'\n",
        "good_server = json.loads(server[0]).get('data').get('servers')[0].get('name')\n",
        "go_url = f\"https://{good_server}.gofile.io/contents/uploadfile\"\n",
        "VT = !yt-dlp --simulate --print \"%(id)s\" $yt_url\n",
        "FN = VT[0] + '.mkv'\n",
        "go_up = !curl -X POST $go_url -F \"file=@{FN}\"\n",
        "output.clear()\n",
        "print('下載網址：', json.loads(go_up[0]).get('data').get('downloadPage'))"
      ],
      "metadata": {
        "cellView": "form",
        "id": "o5Q-A5D4ROKK"
      },
      "execution_count": null,
      "outputs": []
    },
    {
      "cell_type": "code",
      "source": [
        "#@title # 巴哈姆特自動簽到+抽獎\n",
        "#@markdown 從我另一個 [project](https://colab.research.google.com/github/chikenscrach/myba/blob/main/BA.ipynb) 搬過來的ㄏ\n",
        "from google.colab import output, files\n",
        "import threading\n",
        "!apt install nodejs\n",
        "!npm install -g n\n",
        "!n v19.9.0\n",
        "\n",
        "\n",
        "def job():\n",
        "  !npm install -g bahamut-automation\n",
        "\n",
        "\n",
        "t = threading.Thread(target=job)\n",
        "t.start()\n",
        "!npm install playwright\n",
        "!npx playwright install\n",
        "t.join()\n",
        "!rm /usr/local/lib/node_modules/bahamut-automation/dist/modules/ad_handler/index.js\n",
        "!rm /usr/local/lib/node_modules/bahamut-automation/dist/modules/del_mail/index.js\n",
        "!rm /usr/local/lib/node_modules/bahamut-automation/dist/modules/login/index.js\n",
        "!rm /usr/local/lib/node_modules/bahamut-automation/dist/modules/lottery/index.js\n",
        "!wget https://raw.githubusercontent.com/chikenscrach/myba/main/ad_handler/index.js -P /usr/local/lib/node_modules/bahamut-automation/dist/modules/ad_handler\n",
        "!wget https://raw.githubusercontent.com/chikenscrach/myba/main/del_mail/index.js -P /usr/local/lib/node_modules/bahamut-automation/dist/modules/del_mail\n",
        "!wget https://raw.githubusercontent.com/chikenscrach/myba/main/login/index.js -P /usr/local/lib/node_modules/bahamut-automation/dist/modules/login\n",
        "!wget https://raw.githubusercontent.com/chikenscrach/myba/main/lottery/index.js -P /usr/local/lib/node_modules/bahamut-automation/dist/modules/lottery\n",
        "output.clear()\n",
        "uploaded = files.upload()\n",
        "filename = next(iter(uploaded))\n",
        "!ba -c \"{filename}\""
      ],
      "metadata": {
        "cellView": "form",
        "id": "YM0tNHB86zzO"
      },
      "execution_count": null,
      "outputs": []
    },
    {
      "cell_type": "code",
      "source": [
        "%cd /content\n",
        "#@title # Firefox瀏覽器\n",
        "#@markdown <br><center><img src='https://upload.wikimedia.org/wikipedia/commons/thumb/a/a0/Firefox_logo%2C_2019.svg/330px-Firefox_logo%2C_2019.svg.png' height=\"100\" alt=\"Firefox\"/></center>\n",
        "#@markdown <center><h3><a href=\"https://github.com/jlesage/docker-firefox\">jlesage/firefox</a>, <a href=\"https://github.com/jlesage/docker-firefox-esr\">firefox-esr</a></h3></center>\n",
        "#@markdown <center>抄來ㄉ <a href=\"https://colab.research.google.com/github/biplobsd/OneClickRun/blob/master/OneClickRun.ipynb\"><img src=\"https://colab.research.google.com/assets/colab-badge.svg\"></center><br>\n",
        "\n",
        "import os, tarfile\n",
        "import urllib.request\n",
        "from IPython.display import clear_output\n",
        "import subprocess\n",
        "import socket\n",
        "import time\n",
        "\n",
        "#####################################\n",
        "USE_FREE_TOKEN = True # 免費token\n",
        "\n",
        "TOKEN = \"\"  # 有需要再用，很常出問題\n",
        "REGION = \"JP\" # 選擇地區 [\"US\", \"EU\", \"AP\", \"AU\", \"SA\", \"JP\", \"IN\"]\n",
        "PORT_FORWARD = \"argotunnel\" # 連線方式 [\"ngrok\", \"localhost\", \"argotunnel\"]\n",
        "TYPE = \"firefox\" # 版本 [\"firefox\", \"firefox-esr\"]\n",
        "CONFIG_DIRECTORY = \"/content/tools/firefox\"  # 設定檔位置\n",
        "HOME = os.path.expanduser(\"~\")\n",
        "\n",
        "if not os.path.exists(f\"{HOME}/.ipython/ocr.py\"):\n",
        "    hCode = \"https://raw.githubusercontent.com/biplobsd/\" \\\n",
        "                \"OneClickRun/master/res/ocr.py\"\n",
        "    urllib.request.urlretrieve(hCode, f\"{HOME}/.ipython/ocr.py\")\n",
        "\n",
        "\n",
        "from ocr import (\n",
        "    loadingAn,\n",
        "    PortForward_wrapper,\n",
        "    findProcess,\n",
        "    read_subprocess_output,\n",
        "    textAn\n",
        ")\n",
        "\n",
        "def is_port_open(port):\n",
        "    try:\n",
        "        with socket.socket(socket.AF_INET, socket.SOCK_STREAM) as s:\n",
        "            s.settimeout(2)\n",
        "            s.connect((\"localhost\", port))\n",
        "        return True\n",
        "    except (socket.timeout, ConnectionRefusedError):\n",
        "        return False\n",
        "\n",
        "def in_output(command, output):\n",
        "    try:\n",
        "        result = subprocess.run(command.split(), capture_output=True, text=True, check=True)\n",
        "        return output in result.stdout\n",
        "    except subprocess.CalledProcessError:\n",
        "        return False\n",
        "\n",
        "def check_log_until_line_appears(command, line_to_check):\n",
        "    process = subprocess.Popen(command, stdout=subprocess.PIPE)\n",
        "    while True:\n",
        "        line = process.stdout.readline().decode('utf-8')\n",
        "        if line_to_check in line:\n",
        "            return True\n",
        "        elif line == '':\n",
        "            return False\n",
        "        else:\n",
        "            time.sleep(0.1)\n",
        "\n",
        "def popen(cmd, description=None):\n",
        "    try:\n",
        "        if description:\n",
        "          clear_output()\n",
        "          loadingAn()\n",
        "          textAn(description, 'twg')\n",
        "        subprocess.Popen(cmd.split()).wait()\n",
        "    except subprocess.CalledProcessError as e:\n",
        "        print(f\"Error running command: {cmd}\")\n",
        "        print(f\"Error message: {e}\")\n",
        "        raise\n",
        "\n",
        "loadingAn()\n",
        "os.makedirs(CONFIG_DIRECTORY, exist_ok=True)\n",
        "\n",
        "if not os.path.exists(\"/usr/local/bin/udocker\"):\n",
        "    popen('pip install udocker', \"正在安裝 udocker ...\")\n",
        "    popen('udocker --allow-root install', '設定 udocker ...')\n",
        "\n",
        "if not in_output('udocker --allow-root images', f'jlesage/{TYPE}:latest'):\n",
        "    popen(f'udocker --allow-root pull jlesage/{TYPE}', f\"獲取 jlesage/{TYPE} image ...\")\n",
        "\n",
        "if not in_output('udocker --allow-root ps', TYPE):\n",
        "    popen(f'udocker --allow-root create --name={TYPE} jlesage/{TYPE}', f\"創建 {TYPE} container ...\")\n",
        "\n",
        "command = f'udocker --allow-root run -v {CONFIG_DIRECTORY}:/config -p 5800:5800 {TYPE}'.split()\n",
        "line_to_check = '[supervisor  ] all services started.'\n",
        "\n",
        "done = True\n",
        "if (not findProcess(TYPE, '/config/profile')) or (not is_port_open(5800)):\n",
        "    popen('fuser -k -n tcp 5900')\n",
        "    clear_output()\n",
        "    loadingAn()\n",
        "    textAn(\"等待所有系統開始運行 ...\", 'twg')\n",
        "    done = check_log_until_line_appears(command, line_to_check)\n",
        "\n",
        "# START_SERVER\n",
        "# Ngrok region 'us','eu','ap','au','sa','jp','in'\n",
        "clear_output()\n",
        "if done:\n",
        "    server = PortForward_wrapper(\n",
        "        PORT_FORWARD, TOKEN, USE_FREE_TOKEN, [['firefox', '5800', 'http']],\n",
        "        REGION.lower(),\n",
        "        [f\"{HOME}/.ngrok2/firefox.yml\", 58009]\n",
        "    ).start('firefox', displayB=True)\n",
        "else:\n",
        "    print(\"Error: 請終止執行階段，並重新執行。\")\n"
      ],
      "metadata": {
        "cellView": "form",
        "id": "fIMPjzyoLbRu"
      },
      "execution_count": null,
      "outputs": []
    },
    {
      "cell_type": "code",
      "source": [
        "#@title # Speedtest\n",
        "#@markdown [SPEEDTEST](https://www.speedtest.net/zh-Hant/apps/cli)\n",
        "!curl -s https://packagecloud.io/install/repositories/ookla/speedtest-cli/script.deb.sh | sudo bash\n",
        "!apt-get install speedtest\n",
        "!speedtest\n",
        "# 記得輸入 `YES`"
      ],
      "metadata": {
        "cellView": "form",
        "id": "-kwFyzgRsI3B"
      },
      "execution_count": null,
      "outputs": []
    }
  ],
  "metadata": {
    "colab": {
      "provenance": [],
      "collapsed_sections": [
        "7fsGtNtlnP2L",
        "eMa98iAnKu-l"
      ]
    },
    "kernelspec": {
      "display_name": "Python 3",
      "name": "python3"
    },
    "language_info": {
      "name": "python"
    }
  },
  "nbformat": 4,
  "nbformat_minor": 0
}