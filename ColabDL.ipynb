{
  "cells": [
    {
      "cell_type": "code",
      "execution_count": null,
      "metadata": {
        "cellView": "form",
        "id": "VHNkCXZLAIvO"
      },
      "outputs": [],
      "source": [
        "#@title # 初始化（要先執行）\n",
        "#@markdown 先下載必要套件\n",
        "!rm -rf /content/sample_data\n",
        "!apt install -y -qq aria2\n",
        "!pip install -qq gigafile mega.py\n",
        "!mkdir -p /content/DL\n",
        "mega_count = 0\n",
        "%cd /content/DL"
      ]
    },
    {
      "cell_type": "code",
      "execution_count": null,
      "metadata": {
        "cellView": "form",
        "id": "6OayVi9fyI8w"
      },
      "outputs": [],
      "source": [
        "#@title # 👇 **下載**\n",
        "import re\n",
        "%cd /content/DL\n",
        "link = \"\" #@param{type:\"string\"}\n",
        "from_direct_link = False #@param{type:\"boolean\"}\n",
        "from_torrent = False #@param{type:\"boolean\"}\n",
        "from_gigafile = False #@param{type:\"boolean\"}\n",
        "from_pixeldrain = False #@param{type:\"boolean\"}\n",
        "from_mega = False #@param{type:\"boolean\"}\n",
        "\n",
        "if from_torrent:\n",
        "  !aria2c --summary-interval=10 --seed-time=0 --allow-overwrite=true \"{link}\"\n",
        "\n",
        "if from_direct_link:\n",
        "  !aria2c --summary-interval=10 -c -x 16 -k 1M -s 16 \"{link}\"\n",
        "\n",
        "if from_gigafile:\n",
        "  !gfile download \"{link}\"\n",
        "\n",
        "if from_pixeldrain:\n",
        "  url_check = re.match('https://pixeldrain.com/u/', link)\n",
        "  if url_check:\n",
        "    pd_id = link[url_check.span()[1]: len(link)]\n",
        "    bypass = 'https://pd.cybar.xyz/' + pd_id\n",
        "    !aria2c --summary-interval=10 -c -x 16 -k 1M -s 16 \"{bypass}\"\n",
        "  else:\n",
        "    print(\"URL格式錯誤！\")\n",
        "    print(\"正確格式應為`https://pixeldrain.com/u/XXXXXXXX`\")\n",
        "\n",
        "if from_mega:\n",
        "  if mega_count == 0:\n",
        "    mega_count = 1\n",
        "    from mega import Mega\n",
        "    mega = Mega()\n",
        "    m = mega.login()\n",
        "  m.download_url(link)\n",
        "\n",
        "print(\"\\nDone!\")"
      ]
    },
    {
      "cell_type": "code",
      "execution_count": null,
      "metadata": {
        "cellView": "form",
        "id": "sK9bvsmLy-td"
      },
      "outputs": [],
      "source": [
        "#@title # 👇 **上傳**\n",
        "from google.colab import drive\n",
        "import os, json\n",
        "\n",
        "google_drive = False #@param{type:\"boolean\"}\n",
        "google_drive_path = \"ColabDownloads/\" #@param {type:\"string\"}\n",
        "#@markdown **資料夾位置記得加 \"/\"**\n",
        "\n",
        "#@markdown ---\n",
        "#@markdown 以下皆需填filename(path也行)\n",
        "\n",
        "#@markdown 有錯誤時可能是檔名中有特殊符號\n",
        "filename = \"\" #@param{type:\"string\"}\n",
        "#@markdown ---\n",
        "#@markdown **Pixeldrain上限 [20](https://pixeldrain.com/) GB**\n",
        "Pixeldrain = False #@param{type:\"boolean\"}\n",
        "#@markdown ---\n",
        "Gigafile = False #@param{type:\"boolean\"}\n",
        "#@markdown ---\n",
        "#@markdown catbox上限 [200](https://catbox.moe/) MB\n",
        "catbox = False #@param{type:\"boolean\"}\n",
        "\n",
        "if google_drive:\n",
        "  if not os.path.exists('/content/gdrive'):\n",
        "    drive.mount('/content/gdrive')\n",
        "  !rsync -avh --progress . \"/content/gdrive/MyDrive/\"{output_path}\n",
        "  print(\"\\nDone!\")\n",
        "\n",
        "if Pixeldrain:\n",
        "  pdupload = !curl -T \"{filename}\" https://pixeldrain.com/api/file/\n",
        "  res = json.loads(pdupload[0])\n",
        "  # output.clear()\n",
        "  print(\"下載網址： https://pixeldrain.com/u/\", res.get('id'), sep='')\n",
        "\n",
        "if Gigafile:\n",
        "  !gfile -p -n 24 upload \"{filename}\"\n",
        "\n",
        "if catbox:\n",
        "  !curl -F \"reqtype=fileupload\" -F \"fileToUpload=@{filename}\" https://catbox.moe/user/api.php"
      ]
    },
    {
      "cell_type": "code",
      "execution_count": null,
      "metadata": {
        "cellView": "form",
        "id": "u2u7K6iL03Of"
      },
      "outputs": [],
      "source": [
        "#@title # 👇 **移除下載檔案 (清理一下colab)**\n",
        "!rm -rf /content/DL/*\n",
        "%cd /content/DL\n",
        "print(\"乾淨ㄌ\")"
      ]
    },
    {
      "cell_type": "markdown",
      "source": [
        "---\n",
        "# 以下小工具\n"
      ],
      "metadata": {
        "id": "eMa98iAnKu-l"
      }
    },
    {
      "cell_type": "code",
      "source": [
        "#@title # Colab終端機\n",
        "#@markdown [colab-xterm](https://github.com/InfuseAI/colab-xterm)\n",
        "!pip install colab-xterm\n",
        "%load_ext colabxterm\n",
        "%xterm"
      ],
      "metadata": {
        "cellView": "form",
        "id": "jbfg-flWK6_o"
      },
      "execution_count": null,
      "outputs": []
    },
    {
      "cell_type": "code",
      "source": [
        "#@title # Telegram 工具\n",
        "#@markdown [tdl](https://github.com/iyear/tdl) [文件](https://docs.iyear.me/tdl/)\n",
        "!curl -sSL https://docs.iyear.me/tdl/install.sh | sudo bash\n",
        "# upload tdl\n",
        "# unzip tdl.zip -d ~/.tdl"
      ],
      "metadata": {
        "cellView": "form",
        "id": "x2INRPBkLFHt"
      },
      "execution_count": null,
      "outputs": []
    },
    {
      "cell_type": "code",
      "source": [
        "#@title # Mega帳號產生器\n",
        "#@markdown [py_mega_account_generator](https://github.com/qtchaos/py_mega_account_generator)\n",
        "!wget https://dl.google.com/linux/direct/google-chrome-stable_current_amd64.deb\n",
        "!apt-get update\n",
        "!apt-get install ./google-chrome-stable_current_amd64.deb\n",
        "!rm google-chrome-stable_current_amd64.deb\n",
        "!git clone https://github.com/qtchaos/py_mega_account_generator.git\n",
        "%cd py_mega_account_generator\n",
        "!pip install -r requirements.txt\n",
        "%cd ..\n",
        "# 第一次執行把這個複製並貼上`/opt/google/chrome/chrome`"
      ],
      "metadata": {
        "cellView": "form",
        "id": "iHZm_mdJMlyP"
      },
      "execution_count": null,
      "outputs": []
    }
  ],
  "metadata": {
    "colab": {
      "provenance": []
    },
    "kernelspec": {
      "display_name": "Python 3",
      "name": "python3"
    },
    "language_info": {
      "name": "python"
    }
  },
  "nbformat": 4,
  "nbformat_minor": 0
}