{
  "cells": [
    {
      "cell_type": "code",
      "execution_count": null,
      "metadata": {
        "cellView": "form",
        "id": "AAAAAAAAAAAA"
      },
      "outputs": [],
      "source": [
        "#@title # **下載**\n",
        "# 初始化\n",
        "from google.colab import drive\n",
        "import os, json, urllib.parse, re, requests\n",
        "if not os.path.exists(\"/content/DL\"):\n",
        "  !mkdir -p /content/DL\n",
        "  !rm -rf /content/sample_data\n",
        "  !apt-get install aria2\n",
        "  !pip install uv\n",
        "  !uv pip install gigafile --system\n",
        "\n",
        "%cd /content/DL\n",
        "link = \"\" #@param{type:\"string\"}\n",
        "from_direct_link = False #@param{type:\"boolean\"}\n",
        "from_torrent = False #@param{type:\"boolean\"}\n",
        "from_gigafile = False #@param{type:\"boolean\"}\n",
        "from_pixeldrain = False #@param{type:\"boolean\"}\n",
        "from_gofile = False #@param{type:\"boolean\"}\n",
        "\n",
        "if from_torrent:\n",
        "  !aria2c --summary-interval=10 --seed-time=0 --allow-overwrite=true \"{link}\"\n",
        "\n",
        "if from_direct_link:\n",
        "  !aria2c --summary-interval=10 -c -x 16 -k 1M -s 16 \"{link}\"\n",
        "\n",
        "if from_gigafile:\n",
        "  !gfile download \"{link}\"\n",
        "\n",
        "if from_pixeldrain:\n",
        "  url_check = re.match('https://pixeldrain.com/u/', link)\n",
        "  if url_check:\n",
        "    pd_id = link[url_check.span()[1]: len(link)]\n",
        "    bypass = 'https://pd.cybar.xyz/' + pd_id\n",
        "    !aria2c --summary-interval=10 -c -x 16 -k 1M -s 16 \"{bypass}\"\n",
        "  else:\n",
        "    print(\"URL格式錯誤！\")\n",
        "    print(\"正確格式應為`https://pixeldrain.com/u/XXXXXXXX`\")\n",
        "\n",
        "if from_gofile:\n",
        "  if not os.path.exists(\"/content/gofile-downloader\"):\n",
        "    %cd /content\n",
        "    # 安裝gofile downloader\n",
        "    # https://github.com/ltsdw/gofile-downloader\n",
        "    !git clone https://github.com/ltsdw/gofile-downloader.git\n",
        "    %cd gofile-downloader\n",
        "    !uv pip install -r requirements.txt --system\n",
        "    %cd /content/DL\n",
        "  !python /content/gofile-downloader/gofile-downloader.py \"{link}\"\n",
        "\n",
        "\n",
        "print(\"\\nDone!\")"
      ]
    },
    {
      "cell_type": "markdown",
      "source": [
        "---\n",
        "# **上傳**"
      ],
      "metadata": {
        "id": "BBBBBBBBBBBB"
      }
    },
    {
      "cell_type": "code",
      "source": [
        "#@title # **上傳到Buzzheavier**\n",
        "\n",
        "filename = \"\" #@param{type:\"string\"}\n",
        "\n",
        "BuzzUpUrl = \"https://w.buzzheavier.com/\" + urllib.parse.quote(filename)\n",
        "BuzzUp = !curl -#o - -T \"$filename\" \"$BuzzUpUrl\" | cat\n",
        "try:\n",
        "  if int(json.loads(BuzzUp[-1]).get('code')) == 201:\n",
        "    print(\"下載網址： https://buzzheavier.com/\", json.loads(BuzzUp[-1]).get('data').get('id'), sep='')\n",
        "except:\n",
        "  print(\"下面data中的id放在 `https://buzzheavier.com/\\\"這裡\\\"` 就是下載網址\\n如果沒有id那就是出錯啦\\n\", BuzzUp[-1])"
      ],
      "metadata": {
        "cellView": "form",
        "id": "CCCCCCCCCCCC"
      },
      "execution_count": null,
      "outputs": []
    },
    {
      "cell_type": "code",
      "source": [
        "#@title # **上傳到Pixeldrain**\n",
        "#@markdown **Pixeldrain上限 [20](https://pixeldrain.com/) GB**\n",
        "\n",
        "#@markdown 現在需要帳號ㄌ！\n",
        "\n",
        "filename = \"\" #@param{type:\"string\"}\n",
        "pd_api_key = \"\" #@param{type:\"string\"}\n",
        "\n",
        "if pd_api_key == \"\":\n",
        "  print(\"請填入API密鑰！\")\n",
        "  print(\"https://pixeldrain.com/user/api_keys\")\n",
        "else:\n",
        "  pdupload = !curl -T \"{filename}\" -u :$pd_api_key https://pixeldrain.com/api/file/\n",
        "  res = json.loads(pdupload[0])\n",
        "  print(\"下載網址： https://pixeldrain.com/u/\", res.get('id'), sep='')"
      ],
      "metadata": {
        "cellView": "form",
        "id": "DDDDDDDDDDDD"
      },
      "execution_count": null,
      "outputs": []
    },
    {
      "cell_type": "code",
      "source": [
        "#@title # **上傳到Gofile**\n",
        "\n",
        "filename = \"\" #@param{type:\"string\"}\n",
        "# 就是顯示更詳細的資料\n",
        "dev_mode = False #@param{type:\"boolean\"}\n",
        "\n",
        "# !curl -X GET 'https://api.gofile.io/servers'\n",
        "server = !curl -X GET 'https://api.gofile.io/servers'\n",
        "good_server = json.loads(server[0]).get('data').get('servers')[0].get('name')\n",
        "go_url = f\"https://{good_server}.gofile.io/contents/uploadfile\"\n",
        "# !curl -X POST https://store1.gofile.io/contents/uploadfile -F \"file=@{filename}\"\n",
        "go_up = !curl -X POST $go_url -F \"file=@{filename}\"\n",
        "print('下載網址：', json.loads(go_up[0]).get('data').get('downloadPage'))\n",
        "\n",
        "if dev_mode:\n",
        "  gofile_token = json.loads(go_up[0]).get('data').get('guestToken')\n",
        "  parentID = json.loads(go_up[0]).get('data').get('parentFolder')\n",
        "  print('guestToken： ', gofile_token)\n",
        "  print('parentFolder: ', parentID)\n",
        "  print('server: ', good_server)\n",
        "  # !curl -H \"Authorization: Bearer \" -X POST https://store.gofile.io/contents/uploadfile -F \"file=@\" -F \"folderId=\""
      ],
      "metadata": {
        "cellView": "form",
        "id": "EEEEEEEEEEEE"
      },
      "execution_count": null,
      "outputs": []
    },
    {
      "cell_type": "code",
      "source": [
        "#@title # **上傳到Gigafile**\n",
        "\n",
        "filename = \"\" #@param{type:\"string\"}\n",
        "\n",
        "!gfile -p -n 24 upload \"{filename}\""
      ],
      "metadata": {
        "cellView": "form",
        "id": "FFFFFFFFFFFF"
      },
      "execution_count": null,
      "outputs": []
    },
    {
      "cell_type": "code",
      "source": [
        "#@title # **上傳到Gofile.to**\n",
        "\n",
        "filename = \"\" #@param{type:\"string\"}\n",
        "SF = !curl -F \"file=@{filename}\" https://gofile.to/api/v1/upload\n",
        "print(\"下載網址：\", json.loads(SF[0]).get('data').get('file').get('url').get('short'))"
      ],
      "metadata": {
        "cellView": "form",
        "id": "GGGGGGGGGGGG"
      },
      "execution_count": null,
      "outputs": []
    },
    {
      "cell_type": "code",
      "source": [
        "#@title # 上傳到Google Drive\n",
        "#@markdown **資料夾位置記得加 \"/\"**\n",
        "\n",
        "google_drive_path = \"ColabDownloads/\" #@param {type:\"string\"}\n",
        "\n",
        "if not os.path.exists('/content/gdrive'):\n",
        "  drive.mount('/content/gdrive')\n",
        "\n",
        "!rsync -avh --progress . \"/content/gdrive/MyDrive/\"{output_path}\n",
        "\n",
        "print(\"\\033[32mDone!\\033[0m\")"
      ],
      "metadata": {
        "cellView": "form",
        "id": "HHHHHHHHHHHH"
      },
      "execution_count": null,
      "outputs": []
    },
    {
      "cell_type": "code",
      "source": [
        "#@title # **上傳到catbox**\n",
        "#@markdown **catbox上限 [200](https://catbox.moe/) MB**\n",
        "\n",
        "filename = \"\" #@param{type:\"string\"}\n",
        "\n",
        "!curl -F \"reqtype=fileupload\" -F \"fileToUpload=@{filename}\" https://catbox.moe/user/api.php"
      ],
      "metadata": {
        "cellView": "form",
        "id": "IIIIIIIIIIII"
      },
      "execution_count": null,
      "outputs": []
    },
    {
      "cell_type": "markdown",
      "source": [
        "---\n",
        "# 其他"
      ],
      "metadata": {
        "id": "JJJJJJJJJJJJ"
      }
    },
    {
      "cell_type": "code",
      "execution_count": null,
      "metadata": {
        "cellView": "form",
        "id": "KKKKKKKKKKKK"
      },
      "outputs": [],
      "source": [
        "#@title # 👇 **移除下載檔案 (清理一下colab)**\n",
        "!rm -rf /content/DL/*\n",
        "%cd /content/DL\n",
        "print(\"乾淨ㄌ\")"
      ]
    },
    {
      "cell_type": "code",
      "source": [
        "# 自行發揮"
      ],
      "metadata": {
        "id": "LLLLLLLLLLLL"
      },
      "execution_count": null,
      "outputs": []
    },
    {
      "cell_type": "markdown",
      "source": [
        "---\n",
        "# 以下小工具\n"
      ],
      "metadata": {
        "id": "MMMMMMMMMMMM"
      }
    },
    {
      "cell_type": "code",
      "source": [
        "#@title # Colab終端機\n",
        "#@markdown [colab-xterm](https://github.com/InfuseAI/colab-xterm)\n",
        "!pip install colab-xterm\n",
        "%load_ext colabxterm\n",
        "%xterm"
      ],
      "metadata": {
        "cellView": "form",
        "id": "NNNNNNNNNNNN"
      },
      "execution_count": null,
      "outputs": []
    },
    {
      "cell_type": "code",
      "source": [
        "#@title # Telegram 工具\n",
        "#@markdown [tdl](https://github.com/iyear/tdl) [文件](https://docs.iyear.me/tdl/)\n",
        "!curl -sSL https://docs.iyear.me/tdl/install.sh | sudo bash\n",
        "# upload tdl\n",
        "# unzip tdl.zip -d ~/.tdl"
      ],
      "metadata": {
        "cellView": "form",
        "id": "OOOOOOOOOOOO"
      },
      "execution_count": null,
      "outputs": []
    },
    {
      "cell_type": "code",
      "source": [
        "#@title # Mega帳號產生器\n",
        "#@markdown 使用 [MEGAcmd](https://github.com/meganz/MEGAcmd) 和 [mail.tm](https://mail.tm/) API 產生帳號\n",
        "# 使用方法 https://github.com/meganz/MEGAcmd/blob/master/UserGuide.md\n",
        "import random, string, json, threading, re\n",
        "\n",
        "\n",
        "def generate_account(domain, username_length=8, password_length=12):\n",
        "    username = ''.join(random.choices(string.ascii_lowercase + string.digits, k=username_length))\n",
        "    password_characters = string.ascii_letters + string.digits + \"!@#$%^&*()\"\n",
        "    password = ''.join(random.choices(password_characters, k=password_length))\n",
        "    address = f\"{username}@{domain}\"\n",
        "    return {\"address\": address, \"password\": password}\n",
        "\n",
        "\n",
        "def wtfmega():\n",
        "  # 防止卡住，我想不到更好的方法，先這樣處理\n",
        "  !mega-ls\n",
        "\n",
        "\n",
        "%cd /content\n",
        "# 安裝 MEGAcmd\n",
        "# 目前我看colab的系統是Ubuntu 22.04 amd64\n",
        "# 如果之後有需要做更改可以看一下系統資訊\n",
        "# !cat /etc/os-release\n",
        "# !uname -m\n",
        "!wget https://mega.nz/linux/repo/xUbuntu_22.04/amd64/megacmd-xUbuntu_22.04_amd64.deb && sudo apt install \"$PWD/megacmd-xUbuntu_22.04_amd64.deb\"\n",
        "t = threading.Thread(target=wtfmega)\n",
        "t.start()\n",
        "\n",
        "domain = !curl -X GET https://api.mail.tm/domains | jq -r '.\"hydra:member\"[0].domain'\n",
        "account_info = generate_account(domain[-1])\n",
        "json_data = json.dumps(account_info)\n",
        "curl_cmd = f'''curl -X POST https://api.mail.tm/accounts -H \"Content-Type: application/json\" -d '{json_data}' '''\n",
        "!$curl_cmd\n",
        "curl_cmd = f'''curl -X POST https://api.mail.tm/token -H \"Content-Type: application/json\" -d '{json_data}' '''\n",
        "tmtoken = !$curl_cmd | jq -r .token\n",
        "!mega-signup \"{account_info.get('address')}\" \"{account_info.get('password')}\"\n",
        "maildl = !curl -H \"Authorization: Bearer {tmtoken[-1]}\" -X GET https://api.mail.tm/messages -H \"Content-Type: application/json\" | jq -r '.\"hydra:member\"[0].downloadUrl'\n",
        "!curl -H \"Authorization: Bearer {tmtoken[-1]}\" -X GET https://api.mail.tm\"{maildl[-1]}\" -o mail.txt\n",
        "with open('mail.txt', 'r') as file:\n",
        "    content = file.read()\n",
        "\n",
        "confirm_link = re.search(r'https://mega\\.nz/#confirm\\S+', content)\n",
        "\n",
        "if confirm_link:\n",
        "    confirm_url = confirm_link.group()\n",
        "else:\n",
        "    print(\"找不到確認連結\")\n",
        "!mega-confirm $confirm_url \"{account_info.get('address')}\" \"{account_info.get('password')}\"\n",
        "!mega-login \"{account_info.get('address')}\" \"{account_info.get('password')}\"\n",
        "print(f\"\\n\\n\\n\\n\\nMega帳號： {account_info.get('address')}\\nMega密碼： {account_info.get('password')}\\n\\n\\n\\n\\n\")\n",
        "# 如果沒有意外可以使用：\n",
        "# 上傳 !mega-put 檔案\n",
        "# 下載 !mega-get link\n",
        "# 分享(需輸入Yes) !mega-export -a 檔案 或 !echo Yes | mega-export -a 檔案"
      ],
      "metadata": {
        "cellView": "form",
        "id": "PPPPPPPPPPPP"
      },
      "execution_count": null,
      "outputs": []
    },
    {
      "cell_type": "code",
      "source": [
        "#@title # Gdrive\n",
        "#@markdown [gdrive](https://github.com/glotlabs/gdrive)\n",
        "%cd /content\n",
        "!wget https://github.com/glotlabs/gdrive/releases/download/3.9.1/gdrive_linux-x64.tar.gz\n",
        "!tar zxvf gdrive_linux-x64.tar.gz\n",
        "\n",
        "# 如何登入自己的帳號？請看以下網址\n",
        "# https://github.com/glotlabs/gdrive/blob/main/docs/create_google_api_credentials.md\n",
        "\n",
        "# !./gdrive account import account.tar\n",
        "# !rm gdrive_linux-x64.tar.gz account.tar\n",
        "%cd /content/DL\n",
        "# 下載\n",
        "# !/content/gdrive files download \"id\" --recursive\n",
        "# https://drive.google.com/file/d/\"這裡面的就是ID\"/view\n",
        "# 上傳\n",
        "# !/content/gdrive files upload [OPTIONS] [FILE_PATH]"
      ],
      "metadata": {
        "cellView": "form",
        "id": "QQQQQQQQQQQQ"
      },
      "execution_count": null,
      "outputs": []
    },
    {
      "cell_type": "code",
      "source": [
        "#@title # YouTube影片下載\n",
        "#@markdown [po_token](https://github.com/Brainicism/bgutil-ytdlp-pot-provider)\n",
        "\n",
        "import json, os\n",
        "yt_url = \"https://youtu.be/dQw4w9WgXcQ\" #@param {type:\"string\"}\n",
        "\n",
        "#-----之前的程式碼，應該還有研究用途\n",
        "'''\n",
        "# [po_token](https://github.com/iv-org/youtube-trusted-session-generator)\n",
        "import json, os\n",
        "if not os.path.exists(\"data.json\"):\n",
        "  !pip install uv\n",
        "  !uv pip install udocker yt-dlp --system\n",
        "  !udocker --allow-root install\n",
        "  # 處理po_token的部分\n",
        "  gen = !udocker --allow-root run quay.io/invidious/youtube-trusted-session-generator\n",
        "  # 資料有問題可能是行數出錯ㄌㄏㄏ\n",
        "  # print(gen)\n",
        "  visitor_data = gen[22].split(': ')[1]\n",
        "  po_token = gen[23].split(': ')[1]\n",
        "  data = {\"visitor_data\": visitor_data, \"po_token\": po_token}\n",
        "  args = \"youtube:player-client=web,default;player-skip=webpage,configs;po_token=web+\" + po_token + \";visitor_data=\" + visitor_data\n",
        "  json_object = json.dumps(data, indent=4)\n",
        "  # 把資料存到data.json\n",
        "\n",
        "  import json\n",
        "  with open('data.json', 'r') as handle:\n",
        "      parsed = json.load(handle)\n",
        "  print(json.dumps(parsed, indent=4))\n",
        "\n",
        "  with open(\"data.json\", \"w\") as outfile:\n",
        "      outfile.write(json_object)\n",
        "yt_url = \"https://youtu.be/dQw4w9WgXcQ\"\n",
        "!yt-dlp --extractor-args \"{args}\" --ignore-errors --output \"%(title)s.%(ext)s\" --verbose --merge-output-format mp4 --embed-thumbnail --embed-metadata --embed-info-json --concurrent-fragments 24 \"{yt_url}\"\n",
        "# 這裡可以自己DIY，那串不要刪掉，在那串後面DIY\n",
        "# !yt-dlp --extractor-args \"youtube:player-client=web,default;player-skip=webpage,configs;po_token=web+{po_token};visitor_data={visitor_data}\"\n",
        "'''\n",
        "if not os.path.exists(\"installed\"):\n",
        "  !fallocate -l 1 installed\n",
        "  !apt-get install screen\n",
        "  !pip install uv\n",
        "  !uv pip install udocker yt-dlp --system\n",
        "  !uv pip install -U bgutil-ytdlp-pot-provider\n",
        "  !screen -d -m udocker --allow-root run -p 4416:4416 brainicism/bgutil-ytdlp-pot-provider\n",
        "  %cd ~\n",
        "  !git clone --single-branch --branch 0.7.4 https://github.com/Brainicism/bgutil-ytdlp-pot-provider.git\n",
        "  %cd bgutil-ytdlp-pot-provider/server/\n",
        "  !npm install -g yarn\n",
        "  !yarn install --frozen-lockfile\n",
        "  !npx --yes tsc\n",
        "  %cd /content\n",
        "\n",
        "!yt-dlp --ignore-errors --output \"%(title)s.%(ext)s\" --verbose --merge-output-format mp4 --embed-thumbnail --embed-metadata --embed-info-json --concurrent-fragments 24 \"{yt_url}\""
      ],
      "metadata": {
        "cellView": "form",
        "id": "RRRRRRRRRRRR"
      },
      "execution_count": null,
      "outputs": []
    },
    {
      "cell_type": "code",
      "source": [
        "#@title # YouTube直播下載\n",
        "#@markdown [ytarchive](https://github.com/Kethsar/ytarchive)\n",
        "%cd /content\n",
        "!pip install uv\n",
        "!uv pip install yt-dlp\n",
        "import threading\n",
        "!wget https://github.com/Kethsar/ytarchive/releases/download/latest/ytarchive_linux_amd64.zip\n",
        "!unzip ytarchive_linux_amd64.zip\n",
        "!rm ytarchive_linux_amd64.zip\n",
        "\n",
        "yt_url = \"\" #@param{type:\"string\"}\n",
        "mp4 = False #@param{type:\"boolean\"}\n",
        "live_chat = False #@param{type:\"boolean\"}\n",
        "\n",
        "\n",
        "# 下載直播聊天室\n",
        "def job():\n",
        "  !yt-dlp -o \"[%(upload_date)s] %(title)s [%(channel)s] (%(id)s)\" --write-sub --sub-lang live_chat --skip-download -v --wait-for-video 1 --ignore-config \"{yt_url}\"\n",
        "\n",
        "\n",
        "if live_chat:\n",
        "  t = threading.Thread(target=job)\n",
        "  t.start()\n",
        "  if mp4:\n",
        "    !./ytarchive --add-metadata --vp9 -o \"[%(upload_date)s] %(title)s [%(channel)s] (%(id)s)/[%(upload_date)s] %(title)s [%(channel)s] (%(id)s)\" --wait -t --threads 4 -v --write-description --write-thumbnail \"{yt_url}\" best\n",
        "  else:\n",
        "    !./ytarchive --add-metadata --mkv --vp9 -o \"[%(upload_date)s] %(title)s [%(channel)s] (%(id)s)/[%(upload_date)s] %(title)s [%(channel)s] (%(id)s)\" --wait -t --threads 4 -v --write-description --write-thumbnail \"{yt_url}\" best\n",
        "  t.join()\n",
        "else:\n",
        "  if mp4:\n",
        "    !./ytarchive --add-metadata --vp9 -o \"[%(upload_date)s] %(title)s [%(channel)s] (%(id)s)/[%(upload_date)s] %(title)s [%(channel)s] (%(id)s)\" --wait -t --threads 4 -v --write-description --write-thumbnail \"{yt_url}\" best\n",
        "  else:\n",
        "    !./ytarchive --add-metadata --mkv --vp9 -o \"[%(upload_date)s] %(title)s [%(channel)s] (%(id)s)/[%(upload_date)s] %(title)s [%(channel)s] (%(id)s)\" --wait -t --threads 4 -v --write-description --write-thumbnail \"{yt_url}\" best"
      ],
      "metadata": {
        "cellView": "form",
        "id": "SSSSSSSSSSSS"
      },
      "execution_count": null,
      "outputs": []
    },
    {
      "cell_type": "code",
      "source": [
        "%cd /content\n",
        "#@title # Firefox瀏覽器\n",
        "#@markdown <br><center><img src='https://upload.wikimedia.org/wikipedia/commons/thumb/a/a0/Firefox_logo%2C_2019.svg/330px-Firefox_logo%2C_2019.svg.png' height=\"100\" alt=\"Firefox\"/></center>\n",
        "#@markdown <center><h3><a href=\"https://github.com/jlesage/docker-firefox\">jlesage/firefox</a>, <a href=\"https://github.com/jlesage/docker-firefox-esr\">firefox-esr</a></h3></center>\n",
        "#@markdown <center>抄來ㄉ <a href=\"https://colab.research.google.com/github/biplobsd/OneClickRun/blob/master/OneClickRun.ipynb\"><img src=\"https://colab.research.google.com/assets/colab-badge.svg\"></center><br>\n",
        "\n",
        "import os, tarfile\n",
        "import urllib.request\n",
        "from IPython.display import clear_output\n",
        "import subprocess\n",
        "import socket\n",
        "import time\n",
        "\n",
        "#####################################\n",
        "USE_FREE_TOKEN = True # 免費token\n",
        "\n",
        "TOKEN = \"\"  # 有需要再用，很常出問題\n",
        "REGION = \"JP\" # 選擇地區 [\"US\", \"EU\", \"AP\", \"AU\", \"SA\", \"JP\", \"IN\"]\n",
        "PORT_FORWARD = \"localhost\" # 連線方式 [\"ngrok\", \"localhost\", \"argotunnel\"]\n",
        "TYPE = \"firefox\" # 版本 [\"firefox\", \"firefox-esr\"]\n",
        "CONFIG_DIRECTORY = \"/content/tools/firefox\"  # 設定檔位置\n",
        "HOME = os.path.expanduser(\"~\")\n",
        "\n",
        "if not os.path.exists(f\"{HOME}/.ipython/ocr.py\"):\n",
        "    hCode = \"https://raw.githubusercontent.com/biplobsd/\" \\\n",
        "                \"OneClickRun/master/res/ocr.py\"\n",
        "    urllib.request.urlretrieve(hCode, f\"{HOME}/.ipython/ocr.py\")\n",
        "\n",
        "\n",
        "from ocr import (\n",
        "    loadingAn,\n",
        "    PortForward_wrapper,\n",
        "    findProcess,\n",
        "    read_subprocess_output,\n",
        "    textAn\n",
        ")\n",
        "\n",
        "def is_port_open(port):\n",
        "    try:\n",
        "        with socket.socket(socket.AF_INET, socket.SOCK_STREAM) as s:\n",
        "            s.settimeout(2)\n",
        "            s.connect((\"localhost\", port))\n",
        "        return True\n",
        "    except (socket.timeout, ConnectionRefusedError):\n",
        "        return False\n",
        "\n",
        "def in_output(command, output):\n",
        "    try:\n",
        "        result = subprocess.run(command.split(), capture_output=True, text=True, check=True)\n",
        "        return output in result.stdout\n",
        "    except subprocess.CalledProcessError:\n",
        "        return False\n",
        "\n",
        "def check_log_until_line_appears(command, line_to_check):\n",
        "    process = subprocess.Popen(command, stdout=subprocess.PIPE)\n",
        "    while True:\n",
        "        line = process.stdout.readline().decode('utf-8')\n",
        "        if line_to_check in line:\n",
        "            return True\n",
        "        elif line == '':\n",
        "            return False\n",
        "        else:\n",
        "            time.sleep(0.1)\n",
        "\n",
        "def popen(cmd, description=None):\n",
        "    try:\n",
        "        if description:\n",
        "          clear_output()\n",
        "          loadingAn()\n",
        "          textAn(description, 'twg')\n",
        "        subprocess.Popen(cmd.split()).wait()\n",
        "    except subprocess.CalledProcessError as e:\n",
        "        print(f\"Error running command: {cmd}\")\n",
        "        print(f\"Error message: {e}\")\n",
        "        raise\n",
        "\n",
        "loadingAn()\n",
        "os.makedirs(CONFIG_DIRECTORY, exist_ok=True)\n",
        "\n",
        "if not os.path.exists(\"/usr/local/bin/udocker\"):\n",
        "    popen('pip install udocker', \"正在安裝 udocker ...\")\n",
        "    popen('udocker --allow-root install', '設定 udocker ...')\n",
        "\n",
        "if not in_output('udocker --allow-root images', f'jlesage/{TYPE}:latest'):\n",
        "    popen(f'udocker --allow-root pull jlesage/{TYPE}', f\"獲取 jlesage/{TYPE} image ...\")\n",
        "\n",
        "if not in_output('udocker --allow-root ps', TYPE):\n",
        "    popen(f'udocker --allow-root create --name={TYPE} jlesage/{TYPE}', f\"創建 {TYPE} container ...\")\n",
        "\n",
        "command = f'udocker --allow-root run -v {CONFIG_DIRECTORY}:/config -p 5800:5800 {TYPE}'.split()\n",
        "line_to_check = '[supervisor  ] all services started.'\n",
        "\n",
        "done = True\n",
        "if (not findProcess(TYPE, '/config/profile')) or (not is_port_open(5800)):\n",
        "    popen('fuser -k -n tcp 5900')\n",
        "    clear_output()\n",
        "    loadingAn()\n",
        "    textAn(\"等待所有系統開始運行 ...\", 'twg')\n",
        "    done = check_log_until_line_appears(command, line_to_check)\n",
        "\n",
        "# START_SERVER\n",
        "# Ngrok region 'us','eu','ap','au','sa','jp','in'\n",
        "clear_output()\n",
        "if done:\n",
        "    server = PortForward_wrapper(\n",
        "        PORT_FORWARD, TOKEN, USE_FREE_TOKEN, [['firefox', '5800', 'http']],\n",
        "        REGION.lower(),\n",
        "        [f\"{HOME}/.ngrok2/firefox.yml\", 58009]\n",
        "    ).start('firefox', displayB=True)\n",
        "else:\n",
        "    print(\"Error: 請終止執行階段，並重新執行。\")\n"
      ],
      "metadata": {
        "cellView": "form",
        "id": "TTTTTTTTTTTT"
      },
      "execution_count": null,
      "outputs": []
    },
    {
      "cell_type": "code",
      "source": [
        "#@title # Speedtest\n",
        "#@markdown [SPEEDTEST](https://www.speedtest.net/zh-Hant/apps/cli)\n",
        "!curl -s https://packagecloud.io/install/repositories/ookla/speedtest-cli/script.deb.sh | sudo bash\n",
        "!apt-get install speedtest\n",
        "!echo YES | speedtest"
      ],
      "metadata": {
        "cellView": "form",
        "id": "UUUUUUUUUUUU"
      },
      "execution_count": null,
      "outputs": []
    }
  ],
  "metadata": {
    "colab": {
      "provenance": [],
      "collapsed_sections": [
        "BBBBBBBBBBBB",
        "MMMMMMMMMMMM"
      ],
      "toc_visible": true
    },
    "kernelspec": {
      "display_name": "Python 3",
      "name": "python3"
    },
    "language_info": {
      "name": "python"
    }
  },
  "nbformat": 4,
  "nbformat_minor": 0
}