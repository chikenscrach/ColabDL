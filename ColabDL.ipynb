{
  "cells": [
    {
      "cell_type": "code",
      "execution_count": null,
      "metadata": {
        "cellView": "form",
        "id": "VHNkCXZLAIvO"
      },
      "outputs": [],
      "source": [
        "#@title # 初始化（要先執行）\n",
        "#@markdown 先下載必要套件\n",
        "!rm -rf /content/sample_data\n",
        "!apt install -y -qq aria2\n",
        "!pip install -qq gigafile mega.py\n",
        "!mkdir -p /content/DL\n",
        "mega_count = 0\n",
        "%cd /content/DL"
      ]
    },
    {
      "cell_type": "code",
      "execution_count": null,
      "metadata": {
        "cellView": "form",
        "id": "6OayVi9fyI8w"
      },
      "outputs": [],
      "source": [
        "#@title # 👇 **下載**\n",
        "import re\n",
        "%cd /content/DL\n",
        "link = \"\" #@param{type:\"string\"}\n",
        "from_direct_link = False #@param{type:\"boolean\"}\n",
        "from_torrent = False #@param{type:\"boolean\"}\n",
        "from_gigafile = False #@param{type:\"boolean\"}\n",
        "from_pixeldrain = False #@param{type:\"boolean\"}\n",
        "from_mega = False #@param{type:\"boolean\"}\n",
        "\n",
        "if from_torrent:\n",
        "  !aria2c --summary-interval=10 --seed-time=0 --allow-overwrite=true \"{link}\"\n",
        "\n",
        "if from_direct_link:\n",
        "  !aria2c --summary-interval=10 -c -x 16 -k 1M -s 16 \"{link}\"\n",
        "\n",
        "if from_gigafile:\n",
        "  !gfile download \"{link}\"\n",
        "\n",
        "if from_pixeldrain:\n",
        "  url_check = re.match('https://pixeldrain.com/u/', link)\n",
        "  if url_check:\n",
        "    pd_id = link[url_check.span()[1]: len(link)]\n",
        "    bypass = 'https://pd.cybar.xyz/' + pd_id\n",
        "    !aria2c --summary-interval=10 -c -x 16 -k 1M -s 16 \"{bypass}\"\n",
        "  else:\n",
        "    print(\"URL格式錯誤！\")\n",
        "    print(\"正確格式應為`https://pixeldrain.com/u/XXXXXXXX`\")\n",
        "\n",
        "if from_mega:\n",
        "  if mega_count == 0:\n",
        "    mega_count = 1\n",
        "    from mega import Mega\n",
        "    mega = Mega()\n",
        "    m = mega.login()\n",
        "  m.download_url(link)\n",
        "\n",
        "print(\"\\nDone!\")"
      ]
    },
    {
      "cell_type": "code",
      "execution_count": null,
      "metadata": {
        "cellView": "form",
        "id": "sK9bvsmLy-td"
      },
      "outputs": [],
      "source": [
        "#@title # 👇 **上傳**\n",
        "from google.colab import drive\n",
        "import os, json, re\n",
        "\n",
        "google_drive = False #@param{type:\"boolean\"}\n",
        "google_drive_path = \"ColabDownloads/\" #@param {type:\"string\"}\n",
        "#@markdown **資料夾位置記得加 \"/\"**\n",
        "\n",
        "#@markdown ---\n",
        "#@markdown 以下皆需填filename(path也行)\n",
        "\n",
        "#@markdown 有錯誤時可能是檔名中有特殊符號\n",
        "filename = \"\" #@param{type:\"string\"}\n",
        "#@markdown ---\n",
        "#@markdown **Pixeldrain上限 [20](https://pixeldrain.com/) GB**\n",
        "Pixeldrain = False #@param{type:\"boolean\"}\n",
        "#@markdown ---\n",
        "Gigafile = False #@param{type:\"boolean\"}\n",
        "#@markdown ---\n",
        "#@markdown **catbox上限 [200](https://catbox.moe/) MB**\n",
        "catbox = False #@param{type:\"boolean\"}\n",
        "#@markdown ---\n",
        "Buzzheavier = False #@param{type:\"boolean\"}\n",
        "#@markdown ---\n",
        "Gofile = False #@param{type:\"boolean\"}\n",
        "\n",
        "\n",
        "if google_drive:\n",
        "  if not os.path.exists('/content/gdrive'):\n",
        "    drive.mount('/content/gdrive')\n",
        "  !rsync -avh --progress . \"/content/gdrive/MyDrive/\"{output_path}\n",
        "  print(\"\\nDone!\")\n",
        "\n",
        "if Pixeldrain:\n",
        "  pdupload = !curl -T \"{filename}\" https://pixeldrain.com/api/file/\n",
        "  res = json.loads(pdupload[0])\n",
        "  # output.clear()\n",
        "  print(\"下載網址： https://pixeldrain.com/u/\", res.get('id'), sep='')\n",
        "\n",
        "if Gigafile:\n",
        "  !gfile -p -n 24 upload \"{filename}\"\n",
        "\n",
        "if catbox:\n",
        "  !curl -F \"reqtype=fileupload\" -F \"fileToUpload=@{filename}\" https://catbox.moe/user/api.php\n",
        "\n",
        "if Buzzheavier:\n",
        "  BuzzUpUrl = \"https://w.buzzheavier.com/t/\" + filename\n",
        "  BuzzUp = !curl -#o - -T \"$filename\" \"$BuzzUpUrl\" | cat\n",
        "  BuzzDlps = re.search('\"id\":\"', BuzzUp[-1])\n",
        "  BuzzDlpe = re.search('=', BuzzUp[-1])\n",
        "  print(\"下載網址： https://buzzheavier.com/f/\", BuzzUp[-1][BuzzDlps.end():BuzzDlpe.end()], sep='')\n",
        "\n",
        "if Gofile:\n",
        "  server = !curl -X GET 'https://api.gofile.io/servers'\n",
        "  good_server = json.loads(server[0]).get('data').get('servers')[0].get('name')\n",
        "  go_url = f\"https://{good_server}.gofile.io/contents/uploadfile\"\n",
        "  go_up = !curl -X POST $go_url -F \"file=@{filename}\"\n",
        "  print('下載網址：', json.loads(go_up[0]).get('data').get('downloadPage'))"
      ]
    },
    {
      "cell_type": "code",
      "execution_count": null,
      "metadata": {
        "cellView": "form",
        "id": "u2u7K6iL03Of"
      },
      "outputs": [],
      "source": [
        "#@title # 👇 **移除下載檔案 (清理一下colab)**\n",
        "!rm -rf /content/DL/*\n",
        "%cd /content/DL\n",
        "print(\"乾淨ㄌ\")"
      ]
    },
    {
      "cell_type": "markdown",
      "source": [
        "---\n",
        "# 以下小工具\n"
      ],
      "metadata": {
        "id": "eMa98iAnKu-l"
      }
    },
    {
      "cell_type": "code",
      "source": [
        "#@title # Colab終端機\n",
        "#@markdown [colab-xterm](https://github.com/InfuseAI/colab-xterm)\n",
        "!pip install colab-xterm\n",
        "%load_ext colabxterm\n",
        "%xterm"
      ],
      "metadata": {
        "cellView": "form",
        "id": "jbfg-flWK6_o"
      },
      "execution_count": null,
      "outputs": []
    },
    {
      "cell_type": "code",
      "source": [
        "#@title # Telegram 工具\n",
        "#@markdown [tdl](https://github.com/iyear/tdl) [文件](https://docs.iyear.me/tdl/)\n",
        "!curl -sSL https://docs.iyear.me/tdl/install.sh | sudo bash\n",
        "# upload tdl\n",
        "# unzip tdl.zip -d ~/.tdl"
      ],
      "metadata": {
        "cellView": "form",
        "id": "x2INRPBkLFHt"
      },
      "execution_count": null,
      "outputs": []
    },
    {
      "cell_type": "code",
      "source": [
        "#@title # Mega帳號產生器\n",
        "#@markdown [py_mega_account_generator](https://github.com/qtchaos/py_mega_account_generator)\n",
        "!wget https://dl.google.com/linux/direct/google-chrome-stable_current_amd64.deb\n",
        "!apt-get update\n",
        "!apt-get install ./google-chrome-stable_current_amd64.deb\n",
        "!rm google-chrome-stable_current_amd64.deb\n",
        "!git clone https://github.com/qtchaos/py_mega_account_generator.git\n",
        "%cd py_mega_account_generator\n",
        "!pip install -r requirements.txt\n",
        "%cd ..\n",
        "# 第一次執行把這個複製並貼上`/opt/google/chrome/chrome`"
      ],
      "metadata": {
        "cellView": "form",
        "id": "iHZm_mdJMlyP"
      },
      "execution_count": null,
      "outputs": []
    },
    {
      "cell_type": "code",
      "source": [
        "#@title # YouTube影片下載\n",
        "#@markdown 下載格式會是`影片id.mkv`，這樣比較不會有問題\n",
        "from google.colab import output\n",
        "import json\n",
        "!pip install yt-dlp\n",
        "yt_url = \"https://youtu.be/dQw4w9WgXcQ\" #@param {type:\"string\"}\n",
        "!yt-dlp --ignore-errors --output \"%(id)s.%(ext)s\" --verbose --merge-output-format mkv --embed-thumbnail --embed-metadata --embed-info-json --concurrent-fragments 24 $yt_url\n",
        "server = !curl -X GET 'https://api.gofile.io/servers'\n",
        "good_server = json.loads(server[0]).get('data').get('servers')[0].get('name')\n",
        "go_url = f\"https://{good_server}.gofile.io/contents/uploadfile\"\n",
        "VT = !yt-dlp --simulate --print \"%(id)s\" $yt_url\n",
        "FN = VT[0] + '.mkv'\n",
        "go_up = !curl -X POST $go_url -F \"file=@{FN}\"\n",
        "output.clear()\n",
        "print('下載網址：', json.loads(go_up[0]).get('data').get('downloadPage'))"
      ],
      "metadata": {
        "cellView": "form",
        "id": "o5Q-A5D4ROKK"
      },
      "execution_count": null,
      "outputs": []
    },
    {
      "cell_type": "code",
      "source": [
        "#@title # 巴哈姆特自動簽到+抽獎\n",
        "#@markdown [從我另一個project搬過來的ㄏ](https://colab.research.google.com/github/chikenscrach/myba/blob/main/BA.ipynb)\n",
        "from google.colab import output, files\n",
        "import threading\n",
        "!apt install nodejs\n",
        "!npm install -g n\n",
        "!n v19.9.0\n",
        "\n",
        "\n",
        "def job():\n",
        "  !npm install -g bahamut-automation\n",
        "\n",
        "\n",
        "t = threading.Thread(target=job)\n",
        "t.start()\n",
        "!npm install playwright\n",
        "!npx playwright install\n",
        "t.join()\n",
        "!rm /usr/local/lib/node_modules/bahamut-automation/dist/modules/ad_handler/index.js\n",
        "!rm /usr/local/lib/node_modules/bahamut-automation/dist/modules/del_mail/index.js\n",
        "!rm /usr/local/lib/node_modules/bahamut-automation/dist/modules/login/index.js\n",
        "!rm /usr/local/lib/node_modules/bahamut-automation/dist/modules/lottery/index.js\n",
        "!wget https://raw.githubusercontent.com/chikenscrach/myba/main/ad_handler/index.js -P /usr/local/lib/node_modules/bahamut-automation/dist/modules/ad_handler\n",
        "!wget https://raw.githubusercontent.com/chikenscrach/myba/main/del_mail/index.js -P /usr/local/lib/node_modules/bahamut-automation/dist/modules/del_mail\n",
        "!wget https://raw.githubusercontent.com/chikenscrach/myba/main/login/index.js -P /usr/local/lib/node_modules/bahamut-automation/dist/modules/login\n",
        "!wget https://raw.githubusercontent.com/chikenscrach/myba/main/lottery/index.js -P /usr/local/lib/node_modules/bahamut-automation/dist/modules/lottery\n",
        "output.clear()\n",
        "uploaded = files.upload()\n",
        "filename = next(iter(uploaded))\n",
        "!ba -c \"{filename}\""
      ],
      "metadata": {
        "cellView": "form",
        "id": "YM0tNHB86zzO"
      },
      "execution_count": null,
      "outputs": []
    }
  ],
  "metadata": {
    "colab": {
      "provenance": [],
      "toc_visible": true
    },
    "kernelspec": {
      "display_name": "Python 3",
      "name": "python3"
    },
    "language_info": {
      "name": "python"
    }
  },
  "nbformat": 4,
  "nbformat_minor": 0
}