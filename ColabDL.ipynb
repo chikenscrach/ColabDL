{
  "cells": [
    {
      "cell_type": "code",
      "execution_count": null,
      "metadata": {
        "cellView": "form",
        "id": "VHNkCXZLAIvO"
      },
      "outputs": [],
      "source": [
        "#@title # 初始化（要先執行）\n",
        "#@markdown 先下載必要套件\n",
        "!rm -rf /content/sample_data\n",
        "!apt install -y -qq aria2\n",
        "!pip install -qq gigafile\n",
        "!pip install -qq beautifulsoup4\n",
        "!git clone https://github.com/rushiaismywaifu/megaloader.git\n",
        "%cd /content/megaloader\n",
        "!python -m pip install -r requirements.txt\n",
        "!mkdir -p /content/DL\n",
        "%cd /content/DL"
      ]
    },
    {
      "cell_type": "code",
      "execution_count": null,
      "metadata": {
        "cellView": "form",
        "id": "6OayVi9fyI8w"
      },
      "outputs": [],
      "source": [
        "#@title # 👇 **下載 (可以執行多次)**\n",
        "\n",
        "%cd /content/DL\n",
        "link = \"\" #@param{type:\"string\"}\n",
        "from_direct_link = False #@param{type:\"boolean\"}\n",
        "from_torrent = False #@param{type:\"boolean\"}\n",
        "from_gigafile = False #@param{type:\"boolean\"}\n",
        "from_qiwi = True #@param{type:\"boolean\"}\n",
        "\n",
        "if from_torrent:\n",
        "  !aria2c --summary-interval=10 --seed-time=0 --allow-overwrite=true \"{link}\"\n",
        "\n",
        "if from_direct_link:\n",
        "  !aria2c --summary-interval=10 -c -x 10 -k 1M -s 10 \"{link}\"\n",
        "\n",
        "if from_gigafile:\n",
        "  !gfile download \"{link}\"\n",
        "\n",
        "if from_qiwi:\n",
        "  from bs4 import BeautifulSoup as bs\n",
        "  import requests\n",
        "  r = requests.get(link)\n",
        "  s = bs(r.text, \"html.parser\")\n",
        "  name = s.select('h1')[0].text.strip()\n",
        "  ext = name.split('.')[-1]\n",
        "  qiwi = \"qiwi.gg/file\"\n",
        "  spy = \"spyderrock.com\"\n",
        "  ddl = link.replace(qiwi, spy) + \".\" + ext\n",
        "  !aria2c --summary-interval=10 -c -x 10 -k 1M -s 10 \"{ddl}\" -o \"{name}\"\n",
        "\n",
        "print(\"\\nDone!\")"
      ]
    },
    {
      "cell_type": "code",
      "execution_count": null,
      "metadata": {
        "cellView": "form",
        "id": "MwssVCWsTOK3"
      },
      "outputs": [],
      "source": [
        "#@title # 👇 **gofile下載 (限單檔)**\n",
        "%cd /content/megaloader\n",
        "from plugins import GoFile\n",
        "\n",
        "output = \"/content/DL\"\n",
        "url = \"\" #@param{type:\"string\"}\n",
        "api = GoFile(url)\n",
        "for u in api.export():\n",
        "    api.download_file(u, output)\n",
        "\n",
        "%cd /content/DL\n",
        "print(\"\\nDone!\")"
      ]
    },
    {
      "cell_type": "code",
      "execution_count": null,
      "metadata": {
        "cellView": "form",
        "id": "sK9bvsmLy-td"
      },
      "outputs": [],
      "source": [
        "#@title # 👇 **上傳至 Google Drive (資料夾位置記得加 \"/\" )**\n",
        "from google.colab import drive\n",
        "import os\n",
        "if not os.path.exists('/content/gdrive'):\n",
        "  drive.mount('/content/gdrive')\n",
        "%cd /content/DL\n",
        "output_path = \"ColabDownloads/\" #@param {type:\"string\"}\n",
        "!rsync -avh --progress . \"/content/gdrive/MyDrive/\"{output_path}\n",
        "print(\"\\nDone!\")"
      ]
    },
    {
      "cell_type": "code",
      "execution_count": null,
      "metadata": {
        "cellView": "form",
        "id": "qJSwYfE5tq4K"
      },
      "outputs": [],
      "source": [
        "#@title # 👇 **上傳至Gofile (單檔)**\n",
        "from google.colab import output\n",
        "import requests\n",
        "\n",
        "\n",
        "def response_handler(response):\n",
        "  if response[\"status\"] == \"ok\":\n",
        "    return response[\"data\"]\n",
        "\n",
        "  elif \"error-\" in response[\"status\"]:\n",
        "    error = response[\"status\"].split(\"-\")[1]\n",
        "    raise Exception(error)\n",
        "\n",
        "\n",
        "def getServer():\n",
        "  getServer_response = requests.get(url=\"https://api.gofile.io/getServer\").json()\n",
        "  return response_handler(getServer_response)\n",
        "\n",
        "\n",
        "server = getServer()[\"server\"]\n",
        "url = f\"https://{server}.gofile.io/uploadFile\"\n",
        "!fallocate -l 1 Create\n",
        "data = response_handler(requests.post(url=url, files={\"upload_file\": open(\"Create\", \"rb\")}).json())\n",
        "\n",
        "name = \"someFile.txt\" #@param {type:\"string\"}\n",
        "!curl -F \"file=@{name}\" -F token={data['guestToken']} -F folderId={data['parentFolder']} {url}\n",
        "!curl 'https://api.gofile.io/deleteContent' -X DELETE --data-raw 'contentsId={data[\"fileId\"]}&token={data[\"guestToken\"]}'\n",
        "!rm Create\n",
        "output.clear()\n",
        "\n",
        "print(\"下載網址： \", data['downloadPage'])"
      ]
    },
    {
      "cell_type": "code",
      "execution_count": null,
      "metadata": {
        "cellView": "form",
        "id": "UMUY5RwdHdKj"
      },
      "outputs": [],
      "source": [
        "#@title # 👇 **上傳至Gofile (多檔)**\n",
        "from google.colab import output\n",
        "import requests, os\n",
        "\n",
        "\n",
        "def response_handler(response):\n",
        "  if response[\"status\"] == \"ok\":\n",
        "    return response[\"data\"]\n",
        "\n",
        "  elif \"error-\" in response[\"status\"]:\n",
        "    error = response[\"status\"].split(\"-\")[1]\n",
        "    raise Exception(error)\n",
        "\n",
        "\n",
        "def getServer():\n",
        "  getServer_response = requests.get(url=\"https://api.gofile.io/getServer\").json()\n",
        "  return response_handler(getServer_response)\n",
        "\n",
        "\n",
        "server = getServer()[\"server\"]\n",
        "url = f\"https://{server}.gofile.io/uploadFile\"\n",
        "!fallocate -l 1 Create\n",
        "data = response_handler(requests.post(url=url, files={\"upload_file\": open(\"Create\", \"rb\")}).json())\n",
        "!rm Create\n",
        "\n",
        "allpath = \"/content/DL\"\n",
        "for root, dirs, files in os.walk(allpath):\n",
        "  for f in files:\n",
        "    fullpath = os.path.join(root, f)\n",
        "    server = getServer()[\"server\"]\n",
        "    url = f\"https://{server}.gofile.io/uploadFile\"\n",
        "    !curl -F \"file=@{fullpath}\" -F token={data['guestToken']} -F folderId={data['parentFolder']} {url}\n",
        "!curl 'https://api.gofile.io/deleteContent' -X DELETE --data-raw 'contentsId={data[\"fileId\"]}&token={data[\"guestToken\"]}'\n",
        "output.clear()\n",
        "\n",
        "print(\"下載網址： \", data['downloadPage'])"
      ]
    },
    {
      "cell_type": "code",
      "execution_count": null,
      "metadata": {
        "cellView": "form",
        "id": "9qskixMT-u5i"
      },
      "outputs": [],
      "source": [
        "#@title # 👇 **上傳至Pixeldrain (限20GB以下)**\n",
        "from google.colab import output\n",
        "filename = \"someFile.txt\" #@param {type:\"string\"}\n",
        "a = !curl -T \"{filename}\" https://pixeldrain.com/api/file/\n",
        "# output.clear()\n",
        "print(\"下載網址： https://pixeldrain.com/u/\", a[0][7:-2], sep='')"
      ]
    },
    {
      "cell_type": "code",
      "execution_count": null,
      "metadata": {
        "cellView": "form",
        "id": "9SsV3HCBN7A6"
      },
      "outputs": [],
      "source": [
        "#@title # 👇 **上傳至Gigafile**\n",
        "somefile = \"someFile.txt\" #@param {type:\"string\"}\n",
        "!gfile -p -n 24 upload \"{somefile}\""
      ]
    },
    {
      "cell_type": "code",
      "execution_count": null,
      "metadata": {
        "cellView": "form",
        "id": "u2u7K6iL03Of"
      },
      "outputs": [],
      "source": [
        "#@title # 👇 **移除下載檔案 (清理一下colab)**\n",
        "!rm -rf /content/DL/*\n",
        "%cd /content/DL\n",
        "print(\"乾淨ㄌ\")"
      ]
    }
  ],
  "metadata": {
    "colab": {
      "provenance": []
    },
    "kernelspec": {
      "display_name": "Python 3",
      "name": "python3"
    },
    "language_info": {
      "name": "python"
    }
  },
  "nbformat": 4,
  "nbformat_minor": 0
}
